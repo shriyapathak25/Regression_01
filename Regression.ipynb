{
  "nbformat": 4,
  "nbformat_minor": 0,
  "metadata": {
    "colab": {
      "provenance": []
    },
    "kernelspec": {
      "name": "python3",
      "display_name": "Python 3"
    },
    "language_info": {
      "name": "python"
    }
  },
  "cells": [
    {
      "cell_type": "markdown",
      "source": [
        "Ans 1:- Simple Linear Regression is a statistical method to predict a continuous outcome variable based on one input feature.\n"
      ],
      "metadata": {
        "id": "jrfM01G4GqVP"
      }
    },
    {
      "cell_type": "markdown",
      "source": [
        "Ans 2:- Assumptions: linearity, independence, homoscedasticity, normality, and no multicollinearity.\n",
        "\n"
      ],
      "metadata": {
        "id": "b7jVvzSNG89m"
      }
    },
    {
      "cell_type": "markdown",
      "source": [
        "Ans 3:- Coefficient m represents the slope or change in Y for a 1-unit change in X."
      ],
      "metadata": {
        "id": "z5c_BHH_HIjZ"
      }
    },
    {
      "cell_type": "markdown",
      "source": [
        "Ans 4:- Intercept c represents the value of Y when X is 0.\n"
      ],
      "metadata": {
        "id": "O-awA58NHwXt"
      }
    },
    {
      "cell_type": "markdown",
      "source": [
        "Ans 5:- Slope m is calculated using the least squares method to minimize the sum of squared errors.\n"
      ],
      "metadata": {
        "id": "ssEDlnOvHwUu"
      }
    },
    {
      "cell_type": "markdown",
      "source": [
        "Ans 6:- The purpose is to find the best-fitting line by minimizing the sum of squared errors.\n"
      ],
      "metadata": {
        "id": "_AcFip65HwRw"
      }
    },
    {
      "cell_type": "markdown",
      "source": [
        "Ans 7:- R² represents the proportion of variance in Y explained by X.\n"
      ],
      "metadata": {
        "id": "TUTqgBKRHwMK"
      }
    },
    {
      "cell_type": "markdown",
      "source": [
        "Ans 8:- Multiple Linear Regression predicts a continuous outcome variable based on multiple input features.\n"
      ],
      "metadata": {
        "id": "I86zaOx4HwFM"
      }
    },
    {
      "cell_type": "markdown",
      "source": [
        "Ans 9:- Multiple Linear Regression considers multiple input features, while Simple Linear Regression considers only one.\n"
      ],
      "metadata": {
        "id": "ARKFxNmsHwCR"
      }
    },
    {
      "cell_type": "markdown",
      "source": [
        "Ans 10:- Assumptions: linearity, independence, homoscedasticity, normality, no multicollinearity, and no correlation between residuals and input features."
      ],
      "metadata": {
        "id": "MCs8WG5KHv_e"
      }
    },
    {
      "cell_type": "markdown",
      "source": [
        "Ans 11:- Heteroscedasticity: non-constant variance in residuals, affecting model accuracy.\n"
      ],
      "metadata": {
        "id": "A-yW3VtoHv8n"
      }
    },
    {
      "cell_type": "markdown",
      "source": [
        "Ans 12:- Use dimensionality reduction (PCA), feature selection, or regularization techniques.\n"
      ],
      "metadata": {
        "id": "aETXN_3BHv5v"
      }
    },
    {
      "cell_type": "markdown",
      "source": [
        "Ans 13:- Use one-hot encoding, label encoding, or binary encoding"
      ],
      "metadata": {
        "id": "l3HiW96XHv3U"
      }
    },
    {
      "cell_type": "markdown",
      "source": [
        "Ans 14:- Interaction terms help model non-linear relationships between variables.\n"
      ],
      "metadata": {
        "id": "Us3EbmZYHv0c"
      }
    },
    {
      "cell_type": "markdown",
      "source": [
        "Ans 15:- In Simple Linear Regression, intercept is the starting point. In Multiple Linear Regression, intercept is the expected value when all predictors are 0.\n"
      ],
      "metadata": {
        "id": "0_yBK2goHvxa"
      }
    },
    {
      "cell_type": "markdown",
      "source": [
        "Ans 16:- Slope represents change in outcome variable for a 1-unit change in predictor variable.\n"
      ],
      "metadata": {
        "id": "HffbV2xXHvus"
      }
    },
    {
      "cell_type": "markdown",
      "source": [
        "Ans 17:- Intercept provides a baseline value for the relationship between variables.\n"
      ],
      "metadata": {
        "id": "fLfwP25KI15H"
      }
    },
    {
      "cell_type": "markdown",
      "source": [
        "Ans 18:- R² only measures goodness of fit, not model validity or predictive power.\n"
      ],
      "metadata": {
        "id": "3IFwJUXkI1v1"
      }
    },
    {
      "cell_type": "markdown",
      "source": [
        "Ans 19:- Large standard error indicates low precision and reliability of the coefficient estimate.\n"
      ],
      "metadata": {
        "id": "Ja7ecVPLI1az"
      }
    },
    {
      "cell_type": "markdown",
      "source": [
        "Ans 20:- Heteroscedasticity appears as non-random, funnel-shaped, or non-constant variance in residual plots."
      ],
      "metadata": {
        "id": "mABMGqJVI1C6"
      }
    },
    {
      "cell_type": "markdown",
      "source": [
        "Ans 21:- High R² but low adjusted R² indicates overfitting due to too many predictors.\n"
      ],
      "metadata": {
        "id": "tU0vMgZmJ6Sp"
      }
    },
    {
      "cell_type": "markdown",
      "source": [
        "Ans 22:- Scaling variables ensures equal weightage, improves model interpretability, and prevents feature dominance.\n"
      ],
      "metadata": {
        "id": "jDJMTq1oJ6K6"
      }
    },
    {
      "cell_type": "markdown",
      "source": [
        "Ans 23:- Polynomial regression is a non-linear regression model that uses polynomial equations to fit data.\n"
      ],
      "metadata": {
        "id": "qEzOE5n0J6Es"
      }
    },
    {
      "cell_type": "markdown",
      "source": [
        "Ans 24:- Polynomial regression uses non-linear polynomial equations, whereas linear regression uses linear equations.\n"
      ],
      "metadata": {
        "id": "w3v9fxbUJ5-z"
      }
    },
    {
      "cell_type": "markdown",
      "source": [
        "Ans 25:- Polynomial regression is used when data exhibits non-linear relationships, such as curvature or oscillations.\n"
      ],
      "metadata": {
        "id": "m66CbAWtJ54l"
      }
    },
    {
      "cell_type": "markdown",
      "source": [
        "Ans 26:- The general equation is: y = β0 + β1x + β2x² + … + βnx^n + ε\n"
      ],
      "metadata": {
        "id": "bP-YmozVJ5xm"
      }
    },
    {
      "cell_type": "markdown",
      "source": [
        "Ans 27:-Yes, polynomial regression can be applied to multiple variables using multivariate polynomial regression.\n"
      ],
      "metadata": {
        "id": "TzCafGYxJ5rW"
      }
    },
    {
      "cell_type": "markdown",
      "source": [
        "Ans 28:-Limitations include overfitting, high complexity, and difficulty in interpreting coefficients.\n"
      ],
      "metadata": {
        "id": "LBYF4rUwJ5k2"
      }
    },
    {
      "cell_type": "markdown",
      "source": [
        "Ans 29:- Methods include cross-validation, Akaike information criterion (AIC), and Bayesian information criterion (BIC).\n"
      ],
      "metadata": {
        "id": "0bAxq-qSJ5dO"
      }
    },
    {
      "cell_type": "markdown",
      "source": [
        "Ans 30:-Visualization helps identify non-linear relationships, select optimal polynomial degree, and detect overfitting.\n"
      ],
      "metadata": {
        "id": "2mKVDcfOJ5EM"
      }
    },
    {
      "cell_type": "markdown",
      "source": [
        "Ans 31:- Polynomial regression can be implemented using scikit-learn's PolynomialFeatures and LinearRegression classes."
      ],
      "metadata": {
        "id": "A19RBGQrJ4pV"
      }
    }
  ]
}